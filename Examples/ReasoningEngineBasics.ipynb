{
 "cells": [
  {
   "cell_type": "markdown",
   "metadata": {},
   "source": [
    "<a id=\"Contents\"></a>\n",
    "# Reasoning Engine Basics\n",
    "\n",
    "This notebook provides a basic introduction to the reasoning engine framework and the Reasoning Engine Intermediate Language (REIL). \n",
    "\n",
    "* [Introduction](#Introduction)\n",
    "* [Model Definition and Model Checking](#ModelChecking): Basic model definition using REIL and SMT-based verification/synthesis \n",
    "* ['Hybrid' Models](#HybridModels): Defining models that combine Boolean and numerical variables\n",
    "* [Synchronous vs Asynchronous Updates](#SyncVsAsync): Examples of defining synchronous and asynchronous dynamical systems\n",
    "* [Model Enumeration](#Enumeration): When synthesizing a single satisfying model is not enough\n",
    "* [System and Path Variables](#VariableScope): Examples of different variable scopes\n",
    "* [Higher-level DSLs](#DSLs): Examples of using REIL to define richer, domain-specific languages\n",
    "* [Notes](#Notes): Some additional notes"
   ]
  },
  {
   "cell_type": "code",
   "execution_count": null,
   "metadata": {},
   "outputs": [],
   "source": [
    "#load \"Paket.fsx\"\n",
    "Paket.Version\n",
    "    [\n",
    "        \"Microsoft.Z3.x64\", \"~> 4.8.4\"\n",
    "        \"AutomaticGraphLayout\", \"~> 1.1.9\"\n",
    "        \"AutomaticGraphLayout.Drawing\", \"~> 1.1.9\"\n",
    "    ]   \n",
    "#load \"Paket.Generated.Refs.fsx\"\n",
    "\n",
    "(* Works on Windows, untested elsewhere *)\n",
    "System.Environment.SetEnvironmentVariable(\"Path\", \n",
    "    System.Environment.GetEnvironmentVariable(\"Path\")\n",
    "    + \";\" + Paket.RootPath + @\"/packages/Microsoft.Z3.x64/runtimes/win-x64/native\")\n",
    "// \";\" + Paket.RootPath + @\"/packages/Microsoft.Z3.x64/runtimes/ubuntu-x64/native\")\n",
    "// \";\" + Paket.RootPath + @\"/packages/Microsoft.Z3.x64/runtimes/macos/native\")\n",
    "\n",
    "#load @\"..\\RENotebookApi\\ReLoad.fsx\"\n",
    "open ReasoningEngine"
   ]
  },
  {
   "cell_type": "markdown",
   "metadata": {},
   "source": [
    "<a id=\"Introduction\"></a>\n",
    "## Introduction\n",
    "\n",
    "A Reasoning Engine ``model`` is described by a number of discrete state variables, which could be of ``int`` (int), ``nat`` (non-negative integer) or ``bool`` (Boolean) type. Each variable can be either a ``system``, ``path`` or ``state`` variable. Path variables are replicated for each trajectory of the system that is considered as part of the analysis. State variables are replicated for each experiment and at every discrete time step and system variable are not replicated. Constraints are defined over the different variables of the system.\n",
    "\n",
    "\n",
    "<a id=\"ModelChecking\"></a>\n",
    "## Model Definition and Model Checking\n",
    "For our first model, we consider a simple system with only a single state variable ``x``, which is of type ``int``. We specify the model using the REIL language, load it and check if solutions exist using the SMT solver Z3."
   ]
  },
  {
   "cell_type": "code",
   "execution_count": null,
   "metadata": {},
   "outputs": [],
   "source": [
    "\"\"\"\n",
    "state int x;\n",
    "\"\"\"\n",
    "|> ReilAPI.Load\n",
    "|> ReilAPI.CheckAndPrint"
   ]
  },
  {
   "cell_type": "markdown",
   "metadata": {},
   "source": [
    "Using the SMT solver we find that solutions exist, meaning that a valid assignment of all system variables can be found. However, this is not very interesting because our system does not specify any constraints or even system dynamics yet. Let's fix that next by specifying that our system is a simple counter, where the value of ``x`` increases at every step.  \n",
    "\n",
    "We will also specify some constraints about the executions of our counter. We consider an execution (also reffered to as a trajectory or path) of the system called ``test`` and specify that in this execution the value of the counter was initially ``0`` and is above ``0`` at step ``10``. "
   ]
  },
  {
   "cell_type": "code",
   "execution_count": null,
   "metadata": {},
   "outputs": [],
   "source": [
    "\"\"\"\n",
    "state int x;\n",
    "update p[k].x := p[k-1].x + 1;\n",
    "#test[0].x = 0;\n",
    "#test[10].x > 0;\n",
    "\"\"\"\n",
    "|> ReilAPI.Load\n",
    "|> ReilAPI.Check\n",
    "|> TrajVis.PlotSolutionTrajectories"
   ]
  },
  {
   "cell_type": "markdown",
   "metadata": {},
   "source": [
    "Next, we relax the constraints on our counter a bit. Instead of specifying the initial state, we simply require that the value of ``x`` is above ``20`` at step ``10``. We synthesize a solution, where a suitable initial state has been selected by the solver to ensure that the constraint is satisfied."
   ]
  },
  {
   "cell_type": "code",
   "execution_count": null,
   "metadata": {},
   "outputs": [],
   "source": [
    "\"\"\"\n",
    "state int x;\n",
    "update p[k].x := p[k-1].x + 1;\n",
    "#test[10].x > 20;\n",
    "\"\"\"\n",
    "|> ReilAPI.Load\n",
    "|> ReilAPI.Check\n",
    "|> TrajVis.PlotSolutionTrajectories"
   ]
  },
  {
   "cell_type": "markdown",
   "metadata": {},
   "source": [
    "Multiple executions of the same system but with different constraints can be specified and considered as part of the synthesis problem. Here, we require that for the same counter system one trajectory ``test1`` is above ``20`` and another is below ``5`` at step ``10``. Once again, suitable and different initial states are synthesized for the two trajectories to satisfy the constraints."
   ]
  },
  {
   "cell_type": "code",
   "execution_count": null,
   "metadata": {},
   "outputs": [],
   "source": [
    "\"\"\"\n",
    "state int x;\n",
    "update p[k].x := p[k-1].x + 1;\n",
    "#test1[10].x > 20;\n",
    "#test2[10].x < 5;\n",
    "\"\"\"\n",
    "|> ReilAPI.Load\n",
    "|> ReilAPI.Check\n",
    "|> TrajVis.PlotSolutionTrajectories"
   ]
  },
  {
   "cell_type": "markdown",
   "metadata": {},
   "source": [
    "<a id=\"HybridModels\"></a>\n",
    "## 'Hybrid' Models\n",
    "\n",
    "Although the Reasoning Engine currently supports only discrete models, variables can be of types ``int`` (or ``nat``) and ``bool``. This allows for the construction of 'hybrid' models that combine logical and numerical dynamics. \n",
    "\n",
    "In the following, we develop a basic temperature control system model. We assume that the temperature increases by one degree per time step whenever the heating is on but decreases when the heating is off. To capture this, we use two ``state`` variables: an ``int`` variable ``temperature`` (since no continuous quantities are currently supported) and a ``bool`` ``heasIsOn``. We define the system dynamics such that the heating is switch on whenever the temperature drops below ``18`` degrees. We are interested in checking whether it is possible to reach temperature below ``18`` despite our temperature controller, which turns out to be possible as illustrated by the trajectories synthesized by the Reasoning Engine."
   ]
  },
  {
   "cell_type": "code",
   "execution_count": null,
   "metadata": {},
   "outputs": [],
   "source": [
    "\"\"\"\n",
    "unique state int temperature;\n",
    "unique state bool heatIsOn;\n",
    "update \n",
    "    p[k].temperature := if (p[k-1].heatIsOn) then (p[k-1].temperature + 1) else (p[k-1].temperature - 1),\n",
    "    p[k].heatIsOn := p[k-1].temperature < 18;\n",
    "\n",
    "#test[0].temperature = 20;\n",
    "#test[10].temperature < 18;\n",
    "\"\"\"\n",
    "|> ReilAPI.Load\n",
    "|> ReilAPI.Check\n",
    "|> TrajVis.PlotSolutionTrajectories"
   ]
  },
  {
   "cell_type": "markdown",
   "metadata": {},
   "source": [
    "<a id=\"SyncVsAsync\"></a>\n",
    "## Synchronous vs Asynchronous Updates\n",
    "\n",
    "The temperature controller example above introduced update rules for two separate variables. As defined for the temperature controller this specifies that both variables are updated synchronously, which generally results in deterministic updates (unless there are other sources of non-determinism). The same update rules are used to define the example below, where state variables ``x`` and ``y`` are updated synchronously at each time step. No solutions are found in this case because the value reached at step ``10`` (for both ``x`` and ``y``) cannot be ``5``."
   ]
  },
  {
   "cell_type": "code",
   "execution_count": null,
   "metadata": {},
   "outputs": [],
   "source": [
    "\"\"\"\n",
    "unique state int x;\n",
    "unique state int y;\n",
    "update \n",
    "    p[k].x := p[k-1].x + 1,\n",
    "    p[k].y := p[k-1].y + 1;\n",
    "#test[0].x = 0;\n",
    "#test[0].y = 0;\n",
    "#test[10].x = 5;\n",
    "\"\"\"\n",
    "|> ReilAPI.Load\n",
    "|> ReilAPI.Enumerate 10\n",
    "|> TrajVis.PlotSolutionTrajectories"
   ]
  },
  {
   "cell_type": "markdown",
   "metadata": {},
   "source": [
    "The Reasoning Engine also supports asynchronous update rule definitions. The example below is similar to the one above but now either of the two update rules can be triggered asynchronously at each time step. Here, we find solutions for the same constraints because different interleavings of the two update rules can result in trajectories, where ``x`` reaches the value of ``5``.  "
   ]
  },
  {
   "cell_type": "code",
   "execution_count": null,
   "metadata": {},
   "outputs": [],
   "source": [
    "\"\"\"\n",
    "unique state int x;\n",
    "unique state int y;\n",
    "update p[k].x := p[k-1].x + 1;\n",
    "update p[k].y := p[k-1].y + 1;\n",
    "#test[0].x = 0;\n",
    "#test[0].y = 0;\n",
    "#test[10].x = 5;\n",
    "\"\"\"\n",
    "|> ReilAPI.Load\n",
    "|> ReilAPI.Enumerate 10\n",
    "|> TrajVis.PlotSolutionTrajectories"
   ]
  },
  {
   "cell_type": "markdown",
   "metadata": {},
   "source": [
    "<a id=\"Enumeration\"></a>\n",
    "## Model Enumeration\n",
    "\n",
    "In the examples so far, we were only interested in synthesizing a single model of the dynamical system satisfying all constraints. If we assume that the constraints represent some behavior of the system we have observer, in general there might be many possible models capable of reproducing this behavior. Selecting only a single solution is a common problem in the modeling of physical system, which can bias the results and conclusions by introducing hidden assumptions (e.g. why is the first model better). To address this problem, the Reasoning Engine provides functionality for enumerating multiple models consistent with the constraints. \n",
    "\n",
    "To illustrate this, we again consider the counter system. We modify the system definition by specifying that the variable ``x`` is ``unique``. Defining variables as unique provides a mechanisms for specifying when is one solution different from another (e.g. at least one unique variable must be different). Similarly, non-unique variables are not considered as part of the enumeration, thus reducing the number of possible solutions. \n",
    "\n",
    "Enumerating 5 different solutions for our counter system reveals different ways of achieving the specification and reaching a value above ``20`` at step ``10``."
   ]
  },
  {
   "cell_type": "code",
   "execution_count": null,
   "metadata": {},
   "outputs": [],
   "source": [
    "\"\"\"\n",
    "unique state int x;\n",
    "update p[k].x := p[k-1].x + 1;\n",
    "#test[10].x > 20;\n",
    "\"\"\"\n",
    "|> ReilAPI.Load\n",
    "|> ReilAPI.Enumerate 5\n",
    "|> TrajVis.PlotSolutionTrajectories"
   ]
  },
  {
   "cell_type": "markdown",
   "metadata": {},
   "source": [
    "<a id=\"VariableScope\"></a>\n",
    "# System and path variables\n",
    "\n",
    "In the examples so far we only considered ``state`` variables (i.e. variables that change along the executions of the system). Besides ``state`` variables, the Reasoning Engine also handles variables with ``system`` or ``path`` scope. \n",
    "\n",
    "In the example below, we extend the counter system, so that it can count by an arbitrary ``increment``. In this model, the increment is a system properties, so all trajectories of the system would increase by the same amount at each step. We also tighten the constraints again, by specifying that our counter starts at ``0`` and enumerate solutions. \n",
    "\n",
    "While the state variable ``x`` is unique, trajectories of this model are in fact deterministic (and here start from ``0``) once the ``increment`` is selected. Therefore, the different solutions represent different possible choices of the unique ``increment`` variable. While we are enumerating up to ``100`` different solutions, only three models are synthesized, indicating that no other models are consistent with the constraints of achieving a value between ``10`` and ``50`` at step ``10``."
   ]
  },
  {
   "cell_type": "code",
   "execution_count": null,
   "metadata": {},
   "outputs": [],
   "source": [
    "\"\"\"\n",
    "unique state int x;\n",
    "unique system nat increment;\n",
    "update p[k].x := p[k-1].x + increment;\n",
    "#test[0].x = 0;\n",
    "#test[10].x > 10;\n",
    "#test[10].x < 50;\n",
    "\"\"\"\n",
    "|> ReilAPI.Load\n",
    "|> ReilAPI.Enumerate 100\n",
    "|> TrajVis.PlotSolutionTrajectories\n"
   ]
  },
  {
   "cell_type": "markdown",
   "metadata": {},
   "source": [
    "To illustrate the difference between ``system`` and ``path`` variables, we consider the problem of synthesizing a counter that can reach the value of either ``10`` or ``20`` in two different executions (``test1`` and ``test1``), both of which start at ``0``."
   ]
  },
  {
   "cell_type": "code",
   "execution_count": null,
   "metadata": {},
   "outputs": [],
   "source": [
    "\"\"\"\n",
    "unique state int x;\n",
    "unique system nat increment;\n",
    "update p[k].x := p[k-1].x + increment;\n",
    "#test1[0].x = 0;\n",
    "#test2[0].x = 0;\n",
    "#test1[10].x = 10;\n",
    "#test2[10].x = 20;\n",
    "\"\"\"\n",
    "|> ReilAPI.Load\n",
    "|> ReilAPI.Enumerate 100\n",
    "|> TrajVis.PlotSolutionTrajectories\n"
   ]
  },
  {
   "cell_type": "markdown",
   "metadata": {},
   "source": [
    "We verify that this problem is unsatisfiable and no solutions exist. This is expected, since the same ``system`` increment cannot produce two different trajectories. In the example below we modify the model so that ``increment`` is now a ``path`` variable. This allows for a distinct value of ``increment`` to be synthesized for each of the two executions and the problem becomes satisfiable. Notice that only a single solution is found despite the enumeration. Indeed ``#test1.increment = 1`` and ``#test2.increment = 2`` is the only possible variable assignment that is consistent with the specification."
   ]
  },
  {
   "cell_type": "code",
   "execution_count": null,
   "metadata": {},
   "outputs": [],
   "source": [
    "\"\"\"\n",
    "unique state int x;\n",
    "unique path nat increment;\n",
    "update p[k].x := p[k-1].x + p.increment;\n",
    "#test1[0].x = 0;\n",
    "#test2[0].x = 0;\n",
    "#test1[10].x = 10;\n",
    "#test2[10].x = 20;\n",
    "\"\"\"\n",
    "|> ReilAPI.Load\n",
    "|> ReilAPI.Enumerate 100\n",
    "|> TrajVis.PlotSolutionTrajectories\n"
   ]
  },
  {
   "cell_type": "code",
   "execution_count": null,
   "metadata": {},
   "outputs": [],
   "source": [
    "\"\"\"\n",
    "unique state int x;\n",
    "unique state int y;\n",
    "update p[k].x := p[k-1].x + p[k].y;\n",
    "#test[0].x = 0;\n",
    "#test[0].y = 1;\n",
    "#test[10].x > 0;\n",
    "\"\"\"\n",
    "|> ReilAPI.Load\n",
    "|> ReilAPI.Enumerate 100\n",
    "|> TrajVis.PlotSolutionTrajectories"
   ]
  },
  {
   "cell_type": "markdown",
   "metadata": {},
   "source": [
    "<a id=\"DSLs\"></a>\n",
    "## Higher-level DSLs\n",
    "\n",
    "The purpose of REIL is to provide a basic intermediate language that could be a compilation target for a variety of DSLs. With this approach, the low-level details of encoding problems into SMT, calling the solver (in this case Z3) and processing the solutions are handled by the Reasoning Engine. Furthermore, this approach allows for additional tactics, problem transformations, simplifications and reasoning strategies to be implemented as part of the Reasoning Engine and reused when reasoning about models defined using higher-level DSLs. The approach has been used to define several biological DSLs compiling to REIL in other projects.\n",
    "\n",
    "In the following we illustrate this idea by creating a simple 'embedded DSL' for Boolean networks. These networks are simple models of genetic interaction. At each state, each gene is either active (true) or inactive (false). Interactions between the genes define the next state of the system. For simplicity, here we consider only synchronous networks with AND-type regulation. We also implement only very limited constraints (e.g. to capture experimental biological observations). Instead of producing REIL text, the example below constructs directly the F# Reasoning Engine model as an illustration of possible programmatic modeling."
   ]
  },
  {
   "cell_type": "code",
   "execution_count": null,
   "metadata": {},
   "outputs": [],
   "source": [
    "open Microsoft.Research.ReasoningEngine.Model\n",
    "open Microsoft.Research.ReasoningEngine.Var\n",
    "open Microsoft.Research.ReasoningEngine.Dynamics\n",
    "open Microsoft.Research.ReasoningEngine.Constraint\n",
    "\n",
    "type Gene = Gene of string\n",
    "\n",
    "type Interaction = \n",
    "    | Activates of (Gene * Gene) //Source * Target\n",
    "    | Represses of (Gene * Gene)\n",
    "    \n",
    "type Observation = \n",
    "    | Active of   (string * int * Gene) //experiment * gene * step\n",
    "    | Inactive of (string * int * Gene)\n",
    "    \n",
    "type Network = \n",
    "    { genes        : Gene[]\n",
    "      interactions : Interaction[]\n",
    "      observations : Observation[]\n",
    "    }\n",
    "    static member Encode (network:Network) = \n",
    "        //define a state variable for each gene\n",
    "        let sys = Array.fold (fun (acc:DSystem) (Gene g) -> acc.DeclareStateVar(g,Type.Bool)) DSystem.EmptySystem network.genes\n",
    "        \n",
    "        //add update rules based on the unteractions\n",
    "        let updateRules = \n",
    "            network.interactions\n",
    "            |> Array.map (fun interaction -> \n",
    "                match interaction with \n",
    "                | Activates (source, target) -> (true, source, target)\n",
    "                | Represses (source, target) -> (false, source, target)\n",
    "                )             \n",
    "            |> Array.groupBy (fun (_,_,target) -> target)\n",
    "            |> Array.map(fun (Gene target, regulators) -> \n",
    "                regulators\n",
    "                |> Seq.map(fun (flag, Gene source, _) -> \n",
    "                    let v = \n",
    "                        AbsStateVar(-1, source) //for all paths, for all steps k, consider k-1\n",
    "                        |> BVar\n",
    "                        |> BTerm\n",
    "                    if flag then v else Not v\n",
    "                    )\n",
    "                |> LAnd\n",
    "                |> BExpr\n",
    "                |> fun expr -> AssignmentRule.Create(target, expr) |> Assignment\n",
    "                )\n",
    "            \n",
    "        let sys = {sys with updates = [Update.Create(None, updateRules)]}\n",
    "        \n",
    "        let model = Model.NewModel sys\n",
    "        \n",
    "        //add constraints\n",
    "        network.observations\n",
    "        |> Array.map(fun obs -> \n",
    "            match obs with \n",
    "            | Active (exp, t, g) -> (true, exp, t, g)\n",
    "            | Inactive (exp, t, g) -> (false, exp, t, g)\n",
    "            )\n",
    "        |> Array.map(fun (flag, exp, t, Gene g) -> \n",
    "            let v = \n",
    "                StateVar(exp, t, g) //for all paths, for all steps k, consider k-1\n",
    "                |> BVar\n",
    "                |> BTerm\n",
    "            if flag then v else Not v            \n",
    "            )\n",
    "        |> Array.fold (fun acc cst -> \n",
    "                {acc with constraints = acc.constraints.AddObservation(cst, \"Constraint\")}\n",
    "            ) model\n",
    "\n",
    "        "
   ]
  },
  {
   "cell_type": "markdown",
   "metadata": {},
   "source": [
    "Next, we use our 'embedded DSL' to define a simple oscillating gene network based on the [Repressilator design](https://en.wikipedia.org/wiki/Repressilator)."
   ]
  },
  {
   "cell_type": "code",
   "execution_count": null,
   "metadata": {},
   "outputs": [],
   "source": [
    "let A, B, C = Gene \"A\", Gene \"B\", Gene \"C\"\n",
    "\n",
    "{ genes = [|A; B; C|]\n",
    "  interactions = \n",
    "      [| Represses (A, B)\n",
    "         Represses (B, C)\n",
    "         Represses (C, A)\n",
    "      |]\n",
    "  observations = \n",
    "      [| Active(\"Experiment1\", 0, A)\n",
    "         Inactive(\"Experiment1\", 0, B)\n",
    "         Inactive(\"Experiment1\", 0, C)\n",
    "         Inactive(\"Experiment1\", 10, A)\n",
    "      |]\n",
    "}\n",
    "|> Network.Encode\n",
    "|> ReilAPI.Enumerate 100\n",
    "|> TrajVis.PlotSolutionTrajectories"
   ]
  },
  {
   "cell_type": "markdown",
   "metadata": {},
   "source": [
    "<a id=\"Notes\"></a>\n",
    "## Notes\n",
    "\n",
    "* **Notation:** In the examples above, we used ``update p[k].x := p[k-1].x + 1`` to define the system dynamics. This can be read as defining an update rule, where for all paths ``p``, for all time steps ``k`` the value of state variable ``x`` at time ``k`` of path ``p`` is determined from the value of ``x`` at the previous time step ``p[k-1].x``. Path variables do not have a time step, so can be referenced by just the generic path ``p`` in update rules (e.g. ``update p[k].x := p[k-1].x + p.increment`` for ``path`` variable ``increment``). Since system variables are not associated with a path, there is no additional scoping (e.g. ``update p[k].x := p[k-1].x + increment`` for ``system`` variable ``increment``).\n",
    "\n",
    "* **Undefined Dynamics:** Without any update rules, currently the problems become unsatisfiable. Alternatively, not-deterministic updates (any next state is possible for all variables) or constant dynamics (e.g. ``p.[k].x = p.[k-1].x``) could be assumed in this edge case. If an update is not specified for a given variable but update rules are otherwise specified, the variable is assumed to retain its value from the previous step (see example below).\n",
    "\n",
    "* **Delays:** Technically, the update rules allow for arbitrary delays to be specified (e.g. ``update p[k].x := p.[k-2].x + 1``). However, such dynamics cause problems in the current implementation, where the first update rule is applied at time-step ``1``. Rules that involve the current time-step (e.g. ``update p[k].x = p[k-1].x+p.[k].y``) are also allowed as in the following.\n",
    "\n",
    "* **Extensions:** There is additional, undocumented functionality implemented in the Reasoning Engine, some of which is purely experimental. For example, the REIL language supports cardinality constraints, which are useful for example to limit the number of Boolean choice variables that are set to true. There is also an experimental interface to [Infer.Net](https://dotnet.github.io/infer/), which could be used as an probabilistic reasoning strategy and an alternative to the SMT-based reasoning."
   ]
  }
 ],
 "metadata": {
  "kernelspec": {
   "display_name": "F#",
   "language": "fsharp",
   "name": "ifsharp"
  },
  "language": "fsharp",
  "language_info": {
   "codemirror_mode": "",
   "file_extension": ".fs",
   "mimetype": "text/x-fsharp",
   "name": "fsharp",
   "nbconvert_exporter": "",
   "pygments_lexer": "",
   "version": "4.3.1.0"
  }
 },
 "nbformat": 4,
 "nbformat_minor": 2
}
