{
 "cells": [
  {
   "cell_type": "markdown",
   "metadata": {},
   "source": [
    "<a id=\"Contents\"></a>\n",
    "# Reasoning Engine Basics\n",
    "\n",
    "This notebook provides a basic introduction to the reasoning engine framework and the Reasoning Engine Intermediate Language (REIL). \n",
    "\n",
    "* [Introduction](#Introduction)\n",
    "* [Model Definition and Model Checking](#ModelChecking): Basic model definition using REIL and SMT-based verification/synthesis \n",
    "* ['Hybrid' Models](#HybridModels): Defining models that combine Boolean and numerical variables\n",
    "* [Synchronous vs Asynchronous Updates](#SyncVsAsync): Examples of defining synchronous and asynchronous dynamical systems\n",
    "* [Model Enumeration](#Enumeration): When synthesizing a single satisfying model is not enough\n",
    "* [System and Path Variables](#VariableScope): Examples of different variable scopes\n",
    "* [Higher-level DSLs](#DSLs): Examples of using REIL to define richer, domain-specific languages\n",
    "* [Notes](#Notes): Some additional notes"
   ]
  },
  {
   "cell_type": "code",
   "execution_count": 1,
   "metadata": {},
   "outputs": [
    {
     "data": {
      "text/html": [
       "\r\n",
       "<div>\r\n",
       "    <div id='dotnet-interactive-this-cell-23472.ca00f80c50664374ad805e9603803475' style='display: none'>\r\n",
       "        The below script needs to be able to find the current output cell; this is an easy method to get it.\r\n",
       "    </div>\r\n",
       "    <script type='text/javascript'>\r\n",
       "// ensure `require` is available globally\r\n",
       "if (typeof require !== typeof Function || typeof require.config !== typeof Function) {\r\n",
       "    let require_script = document.createElement('script');\r\n",
       "    require_script.setAttribute('src', 'https://cdnjs.cloudflare.com/ajax/libs/require.js/2.3.6/require.min.js');\r\n",
       "    require_script.setAttribute('type', 'text/javascript');\r\n",
       "    require_script.onload = function () {\r\n",
       "        loadDotnetInteractiveApi();\r\n",
       "    };\r\n",
       "\r\n",
       "    document.getElementsByTagName('head')[0].appendChild(require_script);\r\n",
       "}\r\n",
       "else {\r\n",
       "    loadDotnetInteractiveApi();\r\n",
       "}\r\n",
       "\r\n",
       "async function probeAddresses(probingAddresses) {\r\n",
       "    function timeout(ms, promise) {\r\n",
       "        return new Promise(function (resolve, reject) {\r\n",
       "            setTimeout(function () {\r\n",
       "                reject(new Error('timeout'))\r\n",
       "            }, ms)\r\n",
       "            promise.then(resolve, reject)\r\n",
       "        })\r\n",
       "    }\r\n",
       "\r\n",
       "    if (Array.isArray(probingAddresses)) {\r\n",
       "        for (let i = 0; i < probingAddresses.length; i++) {\r\n",
       "\r\n",
       "            let rootUrl = probingAddresses[i];\r\n",
       "\r\n",
       "            if (!rootUrl.endsWith('/')) {\r\n",
       "                rootUrl = `${rootUrl}/`;\r\n",
       "            }\r\n",
       "\r\n",
       "            try {\r\n",
       "                let response = await timeout(1000, fetch(`${rootUrl}discovery`, {\r\n",
       "                    method: 'POST',\r\n",
       "                    cache: 'no-cache',\r\n",
       "                    mode: 'cors',\r\n",
       "                    timeout: 1000,\r\n",
       "                    headers: {\r\n",
       "                        'Content-Type': 'text/plain'\r\n",
       "                    },\r\n",
       "                    body: probingAddresses[i]\r\n",
       "                }));\r\n",
       "\r\n",
       "                if (response.status == 200) {\r\n",
       "                    return rootUrl;\r\n",
       "                }\r\n",
       "            }\r\n",
       "            catch (e) { }\r\n",
       "        }\r\n",
       "    }\r\n",
       "}\r\n",
       "\r\n",
       "function loadDotnetInteractiveApi() {\r\n",
       "    probeAddresses([\"http://172.23.192.1:1000/\", \"http://192.168.0.118:1000/\", \"http://127.0.0.1:1000/\"])\r\n",
       "        .then((root) => {\r\n",
       "            // use probing to find host url and api resources\r\n",
       "            // load interactive helpers and language services\r\n",
       "            let dotnetInteractiveRequire = require.config({\r\n",
       "                context: '23472.ca00f80c50664374ad805e9603803475',\r\n",
       "                paths: {\r\n",
       "                    'dotnet-interactive': `${root}resources`\r\n",
       "                }\r\n",
       "            }) || require;\r\n",
       "\r\n",
       "            let dotnetInteractiveExtensionsRequire = require.config({\r\n",
       "                context: '23472.ca00f80c50664374ad805e9603803475',\r\n",
       "                paths: {\r\n",
       "                    'dotnet-interactive-extensions': `${root}extensions`\r\n",
       "                }\r\n",
       "            }) || require;\r\n",
       "\r\n",
       "            if (!window.dotnetInteractiveRequire) {\r\n",
       "                window.dotnetInteractiveRequire = dotnetInteractiveRequire;\r\n",
       "            }\r\n",
       "\r\n",
       "            if (!window.dotnetInteractiveExtensionsRequire) {\r\n",
       "                window.dotnetInteractiveExtensionsRequire = dotnetInteractiveExtensionsRequire;\r\n",
       "            }\r\n",
       "\r\n",
       "            window.getExtensionRequire = function(extensionName, extensionCacheBuster) {\r\n",
       "                let paths = {};\r\n",
       "                paths[extensionName] = `${root}extensions/${extensionName}/resources/`;\r\n",
       "                \r\n",
       "                let internalRequire = require.config({\r\n",
       "                    context: extensionCacheBuster,\r\n",
       "                    paths: paths,\r\n",
       "                    urlArgs: `cacheBuster=${extensionCacheBuster}`\r\n",
       "                    }) || require;\r\n",
       "\r\n",
       "                return internalRequire\r\n",
       "            };\r\n",
       "        \r\n",
       "            dotnetInteractiveRequire([\r\n",
       "                    'dotnet-interactive/dotnet-interactive'\r\n",
       "                ],\r\n",
       "                function (dotnet) {\r\n",
       "                    dotnet.init(window);\r\n",
       "                },\r\n",
       "                function (error) {\r\n",
       "                    console.log(error);\r\n",
       "                }\r\n",
       "            );\r\n",
       "        })\r\n",
       "        .catch(error => {console.log(error);});\r\n",
       "    }\r\n",
       "    </script>\r\n",
       "</div>"
      ]
     },
     "metadata": {},
     "output_type": "display_data"
    },
    {
     "name": "stdout",
     "output_type": "stream",
     "text": [
      "Loading the Reasoning Engine (RE)...\n"
     ]
    }
   ],
   "source": [
    "#load @\"../REInteractiveAPI/ReLoad.fsx\"\n",
    "open ReasoningEngine"
   ]
  },
  {
   "cell_type": "markdown",
   "metadata": {},
   "source": [
    "<a id=\"Introduction\"></a>\n",
    "## Introduction\n",
    "\n",
    "A Reasoning Engine ``model`` is described by a number of discrete state variables, which could be of ``int`` (int), ``nat`` (non-negative integer) or ``bool`` (Boolean) type. Each variable can be either a ``system``, ``path`` or ``state`` variable. Path variables are replicated for each trajectory of the system that is considered as part of the analysis. State variables are replicated for each experiment and at every discrete time step and system variable are not replicated. Constraints are defined over the different variables of the system.\n",
    "\n",
    "\n",
    "<a id=\"ModelChecking\"></a>\n",
    "## Model Definition and Model Checking\n",
    "For our first model, we consider a simple system with only a single state variable ``x``, which is of type ``int``. We specify the model using the REIL language, load it and check if solutions exist using the SMT solver Z3."
   ]
  },
  {
   "cell_type": "code",
   "execution_count": 2,
   "metadata": {},
   "outputs": [
    {
     "data": {
      "text/plain": [
       "Solution(s) found"
      ]
     },
     "execution_count": 2,
     "metadata": {},
     "output_type": "execute_result"
    }
   ],
   "source": [
    "\"\"\"\n",
    "state int x;\n",
    "\"\"\"\n",
    "|> ReilAPI.Load\n",
    "|> ReilAPI.CheckAndPrint"
   ]
  },
  {
   "cell_type": "markdown",
   "metadata": {},
   "source": [
    "Using the SMT solver we find that solutions exist, meaning that a valid assignment of all system variables can be found. However, this is not very interesting because our system does not specify any constraints or even system dynamics yet. Let's fix that next by specifying that our system is a simple counter, where the value of ``x`` increases at every step.  \n",
    "\n",
    "We will also specify some constraints about the executions of our counter. We consider an execution (also reffered to as a trajectory or path) of the system called ``test`` and specify that in this execution the value of the counter was initially ``0`` and is above ``0`` at step ``10``. "
   ]
  },
  {
   "cell_type": "code",
   "execution_count": 3,
   "metadata": {},
   "outputs": [
    {
     "data": {
      "text/html": [
       "<div id=\"2a36ff01-a100-4436-9f4b-cea13bf70868\" style=\"width: 900px; height: 500px;\"></div>\r\n",
       "<script type=\"text/javascript\">\r\n",
       "\r\n",
       "var renderPlotly = function() {\r\n",
       "    var xplotRequire = require.config({context:'xplot-3.0.1',paths:{plotly:'https://cdn.plot.ly/plotly-1.49.2.min'}}) || require;\r\n",
       "    xplotRequire(['plotly'], function(Plotly) {\r\n",
       "\n",
       "            var data = [{\"type\":\"scatter\",\"x\":[0,1,2,3,4,5,6,7,8,9,10],\"y\":[0,1,2,3,4,5,6,7,8,9,10],\"line\":{\"shape\":\"hvh\"},\"name\":\"Solution 0 #test.x\"}];\n",
       "            var layout = {\"showlegend\":true};\n",
       "            Plotly.newPlot('2a36ff01-a100-4436-9f4b-cea13bf70868', data, layout);\n",
       "        \r\n",
       "});\r\n",
       "};\r\n",
       "if ((typeof(require) !==  typeof(Function)) || (typeof(require.config) !== typeof(Function))) {\r\n",
       "    var script = document.createElement(\"script\"); \r\n",
       "    script.setAttribute(\"src\", \"https://cdnjs.cloudflare.com/ajax/libs/require.js/2.3.6/require.min.js\");\r\n",
       "    script.onload = function(){\r\n",
       "        renderPlotly();\r\n",
       "    };\r\n",
       "    document.getElementsByTagName(\"head\")[0].appendChild(script); \r\n",
       "}\r\n",
       "else {\r\n",
       "    renderPlotly();\r\n",
       "}\r\n",
       "</script>\r\n"
      ]
     },
     "metadata": {},
     "output_type": "display_data"
    },
    {
     "data": {
      "text/html": []
     },
     "execution_count": 3,
     "metadata": {},
     "output_type": "execute_result"
    }
   ],
   "source": [
    "\"\"\"\n",
    "state int x;\n",
    "update p[k].x := p[k-1].x + 1;\n",
    "#test[0].x = 0;\n",
    "#test[10].x > 0;\n",
    "\"\"\"\n",
    "|> ReilAPI.Load\n",
    "|> ReilAPI.Check\n",
    "|> TrajVis.PlotSolutionTrajectories"
   ]
  },
  {
   "cell_type": "markdown",
   "metadata": {},
   "source": [
    "Next, we relax the constraints on our counter a bit. Instead of specifying the initial state, we simply require that the value of ``x`` is above ``20`` at step ``10``. We synthesize a solution, where a suitable initial state has been selected by the solver to ensure that the constraint is satisfied."
   ]
  },
  {
   "cell_type": "code",
   "execution_count": 4,
   "metadata": {},
   "outputs": [
    {
     "data": {
      "text/html": [
       "<div id=\"d98fac43-11bc-4e1e-8628-8433685a426b\" style=\"width: 900px; height: 500px;\"></div>\r\n",
       "<script type=\"text/javascript\">\r\n",
       "\r\n",
       "var renderPlotly = function() {\r\n",
       "    var xplotRequire = require.config({context:'xplot-3.0.1',paths:{plotly:'https://cdn.plot.ly/plotly-1.49.2.min'}}) || require;\r\n",
       "    xplotRequire(['plotly'], function(Plotly) {\r\n",
       "\n",
       "            var data = [{\"type\":\"scatter\",\"x\":[0,1,2,3,4,5,6,7,8,9,10],\"y\":[11,12,13,14,15,16,17,18,19,20,21],\"line\":{\"shape\":\"hvh\"},\"name\":\"Solution 0 #test.x\"}];\n",
       "            var layout = {\"showlegend\":true};\n",
       "            Plotly.newPlot('d98fac43-11bc-4e1e-8628-8433685a426b', data, layout);\n",
       "        \r\n",
       "});\r\n",
       "};\r\n",
       "if ((typeof(require) !==  typeof(Function)) || (typeof(require.config) !== typeof(Function))) {\r\n",
       "    var script = document.createElement(\"script\"); \r\n",
       "    script.setAttribute(\"src\", \"https://cdnjs.cloudflare.com/ajax/libs/require.js/2.3.6/require.min.js\");\r\n",
       "    script.onload = function(){\r\n",
       "        renderPlotly();\r\n",
       "    };\r\n",
       "    document.getElementsByTagName(\"head\")[0].appendChild(script); \r\n",
       "}\r\n",
       "else {\r\n",
       "    renderPlotly();\r\n",
       "}\r\n",
       "</script>\r\n"
      ]
     },
     "metadata": {},
     "output_type": "display_data"
    },
    {
     "data": {
      "text/html": []
     },
     "execution_count": 4,
     "metadata": {},
     "output_type": "execute_result"
    }
   ],
   "source": [
    "\"\"\"\n",
    "state int x;\n",
    "update p[k].x := p[k-1].x + 1;\n",
    "#test[10].x > 20;\n",
    "\"\"\"\n",
    "|> ReilAPI.Load\n",
    "|> ReilAPI.Check\n",
    "|> TrajVis.PlotSolutionTrajectories"
   ]
  },
  {
   "cell_type": "markdown",
   "metadata": {},
   "source": [
    "Multiple executions of the same system but with different constraints can be specified and considered as part of the synthesis problem. Here, we require that for the same counter system one trajectory ``test1`` is above ``20`` and another is below ``5`` at step ``10``. Once again, suitable and different initial states are synthesized for the two trajectories to satisfy the constraints."
   ]
  },
  {
   "cell_type": "code",
   "execution_count": 5,
   "metadata": {},
   "outputs": [
    {
     "data": {
      "text/html": [
       "<div id=\"c6bbacb5-84da-45b0-a06f-a528d4f61b9f\" style=\"width: 900px; height: 500px;\"></div>\r\n",
       "<script type=\"text/javascript\">\r\n",
       "\r\n",
       "var renderPlotly = function() {\r\n",
       "    var xplotRequire = require.config({context:'xplot-3.0.1',paths:{plotly:'https://cdn.plot.ly/plotly-1.49.2.min'}}) || require;\r\n",
       "    xplotRequire(['plotly'], function(Plotly) {\r\n",
       "\n",
       "            var data = [{\"type\":\"scatter\",\"x\":[0,1,2,3,4,5,6,7,8,9,10],\"y\":[11,12,13,14,15,16,17,18,19,20,21],\"line\":{\"shape\":\"hvh\"},\"name\":\"Solution 0 #test1.x\"},{\"type\":\"scatter\",\"x\":[0,1,2,3,4,5,6,7,8,9,10],\"y\":[-6,-5,-4,-3,-2,-1,0,1,2,3,4],\"line\":{\"shape\":\"hvh\"},\"name\":\"Solution 0 #test2.x\"}];\n",
       "            var layout = {\"showlegend\":true};\n",
       "            Plotly.newPlot('c6bbacb5-84da-45b0-a06f-a528d4f61b9f', data, layout);\n",
       "        \r\n",
       "});\r\n",
       "};\r\n",
       "if ((typeof(require) !==  typeof(Function)) || (typeof(require.config) !== typeof(Function))) {\r\n",
       "    var script = document.createElement(\"script\"); \r\n",
       "    script.setAttribute(\"src\", \"https://cdnjs.cloudflare.com/ajax/libs/require.js/2.3.6/require.min.js\");\r\n",
       "    script.onload = function(){\r\n",
       "        renderPlotly();\r\n",
       "    };\r\n",
       "    document.getElementsByTagName(\"head\")[0].appendChild(script); \r\n",
       "}\r\n",
       "else {\r\n",
       "    renderPlotly();\r\n",
       "}\r\n",
       "</script>\r\n"
      ]
     },
     "metadata": {},
     "output_type": "display_data"
    },
    {
     "data": {
      "text/html": []
     },
     "execution_count": 5,
     "metadata": {},
     "output_type": "execute_result"
    }
   ],
   "source": [
    "\"\"\"\n",
    "state int x;\n",
    "update p[k].x := p[k-1].x + 1;\n",
    "#test1[10].x > 20;\n",
    "#test2[10].x < 5;\n",
    "\"\"\"\n",
    "|> ReilAPI.Load\n",
    "|> ReilAPI.Check\n",
    "|> TrajVis.PlotSolutionTrajectories"
   ]
  },
  {
   "cell_type": "markdown",
   "metadata": {},
   "source": [
    "<a id=\"HybridModels\"></a>\n",
    "## 'Hybrid' Models\n",
    "\n",
    "Although the Reasoning Engine currently supports only discrete models, variables can be of types ``int`` (or ``nat``) and ``bool``. This allows for the construction of 'hybrid' models that combine logical and numerical dynamics. \n",
    "\n",
    "In the following, we develop a basic temperature control system model. We assume that the temperature increases by one degree per time step whenever the heating is on but decreases when the heating is off. To capture this, we use two ``state`` variables: an ``int`` variable ``temperature`` (since no continuous quantities are currently supported) and a ``bool`` ``heasIsOn``. We define the system dynamics such that the heating is switch on whenever the temperature drops below ``18`` degrees. We are interested in checking whether it is possible to reach temperature below ``18`` despite our temperature controller, which turns out to be possible as illustrated by the trajectories synthesized by the Reasoning Engine."
   ]
  },
  {
   "cell_type": "code",
   "execution_count": 6,
   "metadata": {},
   "outputs": [
    {
     "data": {
      "text/html": [
       "<div id=\"a9159f09-1aca-4025-b0b4-be724cdfd646\" style=\"width: 900px; height: 500px;\"></div>\r\n",
       "<script type=\"text/javascript\">\r\n",
       "\r\n",
       "var renderPlotly = function() {\r\n",
       "    var xplotRequire = require.config({context:'xplot-3.0.1',paths:{plotly:'https://cdn.plot.ly/plotly-1.49.2.min'}}) || require;\r\n",
       "    xplotRequire(['plotly'], function(Plotly) {\r\n",
       "\n",
       "            var data = [{\"type\":\"scatter\",\"x\":[0,1,2,3,4,5,6,7,8,9,10],\"y\":[0,0,0,0,1,1,1,0,0,0,1],\"line\":{\"shape\":\"hvh\"},\"name\":\"Solution 0 #test.heatIsOn\"},{\"type\":\"scatter\",\"x\":[0,1,2,3,4,5,6,7,8,9,10],\"y\":[20,19,18,17,16,17,18,19,18,17,16],\"line\":{\"shape\":\"hvh\"},\"name\":\"Solution 0 #test.temperature\"}];\n",
       "            var layout = {\"showlegend\":true};\n",
       "            Plotly.newPlot('a9159f09-1aca-4025-b0b4-be724cdfd646', data, layout);\n",
       "        \r\n",
       "});\r\n",
       "};\r\n",
       "if ((typeof(require) !==  typeof(Function)) || (typeof(require.config) !== typeof(Function))) {\r\n",
       "    var script = document.createElement(\"script\"); \r\n",
       "    script.setAttribute(\"src\", \"https://cdnjs.cloudflare.com/ajax/libs/require.js/2.3.6/require.min.js\");\r\n",
       "    script.onload = function(){\r\n",
       "        renderPlotly();\r\n",
       "    };\r\n",
       "    document.getElementsByTagName(\"head\")[0].appendChild(script); \r\n",
       "}\r\n",
       "else {\r\n",
       "    renderPlotly();\r\n",
       "}\r\n",
       "</script>\r\n"
      ]
     },
     "metadata": {},
     "output_type": "display_data"
    },
    {
     "data": {
      "text/html": []
     },
     "execution_count": 6,
     "metadata": {},
     "output_type": "execute_result"
    }
   ],
   "source": [
    "\"\"\"\n",
    "unique state int temperature;\n",
    "unique state bool heatIsOn;\n",
    "update \n",
    "    p[k].temperature := if (p[k-1].heatIsOn) then (p[k-1].temperature + 1) else (p[k-1].temperature - 1),\n",
    "    p[k].heatIsOn := p[k-1].temperature < 18;\n",
    "\n",
    "#test[0].temperature = 20;\n",
    "#test[10].temperature < 18;\n",
    "\"\"\"\n",
    "|> ReilAPI.Load\n",
    "|> ReilAPI.Check\n",
    "|> TrajVis.PlotSolutionTrajectories"
   ]
  },
  {
   "cell_type": "markdown",
   "metadata": {},
   "source": [
    "<a id=\"SyncVsAsync\"></a>\n",
    "## Synchronous vs Asynchronous Updates\n",
    "\n",
    "The temperature controller example above introduced update rules for two separate variables. As defined for the temperature controller this specifies that both variables are updated synchronously, which generally results in deterministic updates (unless there are other sources of non-determinism). The same update rules are used to define the example below, where state variables ``x`` and ``y`` are updated synchronously at each time step. No solutions are found in this case because the value reached at step ``10`` (for both ``x`` and ``y``) cannot be ``5``."
   ]
  },
  {
   "cell_type": "code",
   "execution_count": 7,
   "metadata": {},
   "outputs": [
    {
     "data": {
      "text/plain": [
       "No solutions found"
      ]
     },
     "metadata": {},
     "output_type": "display_data"
    },
    {
     "data": {
      "text/html": []
     },
     "execution_count": 7,
     "metadata": {},
     "output_type": "execute_result"
    }
   ],
   "source": [
    "\"\"\"\n",
    "unique state int x;\n",
    "unique state int y;\n",
    "update \n",
    "    p[k].x := p[k-1].x + 1,\n",
    "    p[k].y := p[k-1].y + 1;\n",
    "#test[0].x = 0;\n",
    "#test[0].y = 0;\n",
    "#test[10].x = 5;\n",
    "\"\"\"\n",
    "|> ReilAPI.Load\n",
    "|> ReilAPI.Enumerate 10\n",
    "|> TrajVis.PlotSolutionTrajectories"
   ]
  },
  {
   "cell_type": "markdown",
   "metadata": {},
   "source": [
    "The Reasoning Engine also supports asynchronous update rule definitions. The example below is similar to the one above but now either of the two update rules can be triggered asynchronously at each time step. Here, we find solutions for the same constraints because different interleavings of the two update rules can result in trajectories, where ``x`` reaches the value of ``5``.  "
   ]
  },
  {
   "cell_type": "code",
   "execution_count": 8,
   "metadata": {},
   "outputs": [
    {
     "data": {
      "text/html": [
       "<div id=\"22642da7-6529-4947-b048-54d487c10fb8\" style=\"width: 900px; height: 500px;\"></div>\r\n",
       "<script type=\"text/javascript\">\r\n",
       "\r\n",
       "var renderPlotly = function() {\r\n",
       "    var xplotRequire = require.config({context:'xplot-3.0.1',paths:{plotly:'https://cdn.plot.ly/plotly-1.49.2.min'}}) || require;\r\n",
       "    xplotRequire(['plotly'], function(Plotly) {\r\n",
       "\n",
       "            var data = [{\"type\":\"scatter\",\"x\":[0,1,2,3,4,5,6,7,8,9,10],\"y\":[0,1,1,2,3,4,5,5,5,5,5],\"line\":{\"shape\":\"hvh\"},\"name\":\"Solution 0 #test.x\"},{\"type\":\"scatter\",\"x\":[0,1,2,3,4,5,6,7,8,9,10],\"y\":[0,0,1,1,1,1,1,2,3,4,5],\"line\":{\"shape\":\"hvh\"},\"name\":\"Solution 0 #test.y\"},{\"type\":\"scatter\",\"x\":[0,1,2,3,4,5,6,7,8,9,10],\"y\":[0,0,0,1,2,3,3,3,4,5,5],\"line\":{\"shape\":\"hvh\"},\"name\":\"Solution 1 #test.x\"},{\"type\":\"scatter\",\"x\":[0,1,2,3,4,5,6,7,8,9,10],\"y\":[0,1,2,2,2,2,3,4,4,4,5],\"line\":{\"shape\":\"hvh\"},\"name\":\"Solution 1 #test.y\"},{\"type\":\"scatter\",\"x\":[0,1,2,3,4,5,6,7,8,9,10],\"y\":[0,1,1,2,3,4,4,4,5,5,5],\"line\":{\"shape\":\"hvh\"},\"name\":\"Solution 2 #test.x\"},{\"type\":\"scatter\",\"x\":[0,1,2,3,4,5,6,7,8,9,10],\"y\":[0,0,1,1,1,1,2,3,3,4,5],\"line\":{\"shape\":\"hvh\"},\"name\":\"Solution 2 #test.y\"},{\"type\":\"scatter\",\"x\":[0,1,2,3,4,5,6,7,8,9,10],\"y\":[0,0,1,2,3,4,4,4,5,5,5],\"line\":{\"shape\":\"hvh\"},\"name\":\"Solution 3 #test.x\"},{\"type\":\"scatter\",\"x\":[0,1,2,3,4,5,6,7,8,9,10],\"y\":[0,1,1,1,1,1,2,3,3,4,5],\"line\":{\"shape\":\"hvh\"},\"name\":\"Solution 3 #test.y\"},{\"type\":\"scatter\",\"x\":[0,1,2,3,4,5,6,7,8,9,10],\"y\":[0,1,1,2,3,4,4,4,4,5,5],\"line\":{\"shape\":\"hvh\"},\"name\":\"Solution 4 #test.x\"},{\"type\":\"scatter\",\"x\":[0,1,2,3,4,5,6,7,8,9,10],\"y\":[0,0,1,1,1,1,2,3,4,4,5],\"line\":{\"shape\":\"hvh\"},\"name\":\"Solution 4 #test.y\"},{\"type\":\"scatter\",\"x\":[0,1,2,3,4,5,6,7,8,9,10],\"y\":[0,1,2,2,3,4,4,4,4,5,5],\"line\":{\"shape\":\"hvh\"},\"name\":\"Solution 5 #test.x\"},{\"type\":\"scatter\",\"x\":[0,1,2,3,4,5,6,7,8,9,10],\"y\":[0,0,0,1,1,1,2,3,4,4,5],\"line\":{\"shape\":\"hvh\"},\"name\":\"Solution 5 #test.y\"},{\"type\":\"scatter\",\"x\":[0,1,2,3,4,5,6,7,8,9,10],\"y\":[0,0,1,2,3,4,4,4,4,5,5],\"line\":{\"shape\":\"hvh\"},\"name\":\"Solution 6 #test.x\"},{\"type\":\"scatter\",\"x\":[0,1,2,3,4,5,6,7,8,9,10],\"y\":[0,1,1,1,1,1,2,3,4,4,5],\"line\":{\"shape\":\"hvh\"},\"name\":\"Solution 6 #test.y\"},{\"type\":\"scatter\",\"x\":[0,1,2,3,4,5,6,7,8,9,10],\"y\":[0,1,2,2,3,4,4,4,5,5,5],\"line\":{\"shape\":\"hvh\"},\"name\":\"Solution 7 #test.x\"},{\"type\":\"scatter\",\"x\":[0,1,2,3,4,5,6,7,8,9,10],\"y\":[0,0,0,1,1,1,2,3,3,4,5],\"line\":{\"shape\":\"hvh\"},\"name\":\"Solution 7 #test.y\"},{\"type\":\"scatter\",\"x\":[0,1,2,3,4,5,6,7,8,9,10],\"y\":[0,1,2,2,3,4,5,5,5,5,5],\"line\":{\"shape\":\"hvh\"},\"name\":\"Solution 8 #test.x\"},{\"type\":\"scatter\",\"x\":[0,1,2,3,4,5,6,7,8,9,10],\"y\":[0,0,0,1,1,1,1,2,3,4,5],\"line\":{\"shape\":\"hvh\"},\"name\":\"Solution 8 #test.y\"},{\"type\":\"scatter\",\"x\":[0,1,2,3,4,5,6,7,8,9,10],\"y\":[0,0,1,2,3,4,5,5,5,5,5],\"line\":{\"shape\":\"hvh\"},\"name\":\"Solution 9 #test.x\"},{\"type\":\"scatter\",\"x\":[0,1,2,3,4,5,6,7,8,9,10],\"y\":[0,1,1,1,1,1,1,2,3,4,5],\"line\":{\"shape\":\"hvh\"},\"name\":\"Solution 9 #test.y\"}];\n",
       "            var layout = {\"showlegend\":true};\n",
       "            Plotly.newPlot('22642da7-6529-4947-b048-54d487c10fb8', data, layout);\n",
       "        \r\n",
       "});\r\n",
       "};\r\n",
       "if ((typeof(require) !==  typeof(Function)) || (typeof(require.config) !== typeof(Function))) {\r\n",
       "    var script = document.createElement(\"script\"); \r\n",
       "    script.setAttribute(\"src\", \"https://cdnjs.cloudflare.com/ajax/libs/require.js/2.3.6/require.min.js\");\r\n",
       "    script.onload = function(){\r\n",
       "        renderPlotly();\r\n",
       "    };\r\n",
       "    document.getElementsByTagName(\"head\")[0].appendChild(script); \r\n",
       "}\r\n",
       "else {\r\n",
       "    renderPlotly();\r\n",
       "}\r\n",
       "</script>\r\n"
      ]
     },
     "metadata": {},
     "output_type": "display_data"
    },
    {
     "data": {
      "text/html": []
     },
     "execution_count": 8,
     "metadata": {},
     "output_type": "execute_result"
    }
   ],
   "source": [
    "\"\"\"\n",
    "unique state int x;\n",
    "unique state int y;\n",
    "update p[k].x := p[k-1].x + 1;\n",
    "update p[k].y := p[k-1].y + 1;\n",
    "#test[0].x = 0;\n",
    "#test[0].y = 0;\n",
    "#test[10].x = 5;\n",
    "\"\"\"\n",
    "|> ReilAPI.Load\n",
    "|> ReilAPI.Enumerate 10\n",
    "|> TrajVis.PlotSolutionTrajectories"
   ]
  },
  {
   "cell_type": "markdown",
   "metadata": {},
   "source": [
    "<a id=\"Enumeration\"></a>\n",
    "## Model Enumeration\n",
    "\n",
    "In the examples so far, we were only interested in synthesizing a single model of the dynamical system satisfying all constraints. If we assume that the constraints represent some behavior of the system we have observer, in general there might be many possible models capable of reproducing this behavior. Selecting only a single solution is a common problem in the modeling of physical system, which can bias the results and conclusions by introducing hidden assumptions (e.g. why is the first model better). To address this problem, the Reasoning Engine provides functionality for enumerating multiple models consistent with the constraints. \n",
    "\n",
    "To illustrate this, we again consider the counter system. We modify the system definition by specifying that the variable ``x`` is ``unique``. Defining variables as unique provides a mechanisms for specifying when is one solution different from another (e.g. at least one unique variable must be different). Similarly, non-unique variables are not considered as part of the enumeration, thus reducing the number of possible solutions. \n",
    "\n",
    "Enumerating 5 different solutions for our counter system reveals different ways of achieving the specification and reaching a value above ``20`` at step ``10``."
   ]
  },
  {
   "cell_type": "code",
   "execution_count": 9,
   "metadata": {},
   "outputs": [
    {
     "data": {
      "text/html": [
       "<div id=\"78e2f410-668d-4551-bfb9-adfafb2f4028\" style=\"width: 900px; height: 500px;\"></div>\r\n",
       "<script type=\"text/javascript\">\r\n",
       "\r\n",
       "var renderPlotly = function() {\r\n",
       "    var xplotRequire = require.config({context:'xplot-3.0.1',paths:{plotly:'https://cdn.plot.ly/plotly-1.49.2.min'}}) || require;\r\n",
       "    xplotRequire(['plotly'], function(Plotly) {\r\n",
       "\n",
       "            var data = [{\"type\":\"scatter\",\"x\":[0,1,2,3,4,5,6,7,8,9,10],\"y\":[11,12,13,14,15,16,17,18,19,20,21],\"line\":{\"shape\":\"hvh\"},\"name\":\"Solution 0 #test.x\"},{\"type\":\"scatter\",\"x\":[0,1,2,3,4,5,6,7,8,9,10],\"y\":[12,13,14,15,16,17,18,19,20,21,22],\"line\":{\"shape\":\"hvh\"},\"name\":\"Solution 1 #test.x\"},{\"type\":\"scatter\",\"x\":[0,1,2,3,4,5,6,7,8,9,10],\"y\":[13,14,15,16,17,18,19,20,21,22,23],\"line\":{\"shape\":\"hvh\"},\"name\":\"Solution 2 #test.x\"},{\"type\":\"scatter\",\"x\":[0,1,2,3,4,5,6,7,8,9,10],\"y\":[14,15,16,17,18,19,20,21,22,23,24],\"line\":{\"shape\":\"hvh\"},\"name\":\"Solution 3 #test.x\"},{\"type\":\"scatter\",\"x\":[0,1,2,3,4,5,6,7,8,9,10],\"y\":[15,16,17,18,19,20,21,22,23,24,25],\"line\":{\"shape\":\"hvh\"},\"name\":\"Solution 4 #test.x\"}];\n",
       "            var layout = {\"showlegend\":true};\n",
       "            Plotly.newPlot('78e2f410-668d-4551-bfb9-adfafb2f4028', data, layout);\n",
       "        \r\n",
       "});\r\n",
       "};\r\n",
       "if ((typeof(require) !==  typeof(Function)) || (typeof(require.config) !== typeof(Function))) {\r\n",
       "    var script = document.createElement(\"script\"); \r\n",
       "    script.setAttribute(\"src\", \"https://cdnjs.cloudflare.com/ajax/libs/require.js/2.3.6/require.min.js\");\r\n",
       "    script.onload = function(){\r\n",
       "        renderPlotly();\r\n",
       "    };\r\n",
       "    document.getElementsByTagName(\"head\")[0].appendChild(script); \r\n",
       "}\r\n",
       "else {\r\n",
       "    renderPlotly();\r\n",
       "}\r\n",
       "</script>\r\n"
      ]
     },
     "metadata": {},
     "output_type": "display_data"
    },
    {
     "data": {
      "text/html": []
     },
     "execution_count": 9,
     "metadata": {},
     "output_type": "execute_result"
    }
   ],
   "source": [
    "\"\"\"\n",
    "unique state int x;\n",
    "update p[k].x := p[k-1].x + 1;\n",
    "#test[10].x > 20;\n",
    "\"\"\"\n",
    "|> ReilAPI.Load\n",
    "|> ReilAPI.Enumerate 5\n",
    "|> TrajVis.PlotSolutionTrajectories"
   ]
  },
  {
   "cell_type": "markdown",
   "metadata": {},
   "source": [
    "<a id=\"VariableScope\"></a>\n",
    "# System and path variables\n",
    "\n",
    "In the examples so far we only considered ``state`` variables (i.e. variables that change along the executions of the system). Besides ``state`` variables, the Reasoning Engine also handles variables with ``system`` or ``path`` scope. \n",
    "\n",
    "In the example below, we extend the counter system, so that it can count by an arbitrary ``increment``. In this model, the increment is a system properties, so all trajectories of the system would increase by the same amount at each step. We also tighten the constraints again, by specifying that our counter starts at ``0`` and enumerate solutions. \n",
    "\n",
    "While the state variable ``x`` is unique, trajectories of this model are in fact deterministic (and here start from ``0``) once the ``increment`` is selected. Therefore, the different solutions represent different possible choices of the unique ``increment`` variable. While we are enumerating up to ``100`` different solutions, only three models are synthesized, indicating that no other models are consistent with the constraints of achieving a value between ``10`` and ``50`` at step ``10``."
   ]
  },
  {
   "cell_type": "code",
   "execution_count": 10,
   "metadata": {},
   "outputs": [
    {
     "data": {
      "text/html": [
       "<div id=\"662951a0-6791-4fe3-a6d5-5449358ba2ca\" style=\"width: 900px; height: 500px;\"></div>\r\n",
       "<script type=\"text/javascript\">\r\n",
       "\r\n",
       "var renderPlotly = function() {\r\n",
       "    var xplotRequire = require.config({context:'xplot-3.0.1',paths:{plotly:'https://cdn.plot.ly/plotly-1.49.2.min'}}) || require;\r\n",
       "    xplotRequire(['plotly'], function(Plotly) {\r\n",
       "\n",
       "            var data = [{\"type\":\"scatter\",\"x\":[0,1,2,3,4,5,6,7,8,9,10],\"y\":[0,2,4,6,8,10,12,14,16,18,20],\"line\":{\"shape\":\"hvh\"},\"name\":\"Solution 0 #test.x\"},{\"type\":\"scatter\",\"x\":[0,1,2,3,4,5,6,7,8,9,10],\"y\":[0,3,6,9,12,15,18,21,24,27,30],\"line\":{\"shape\":\"hvh\"},\"name\":\"Solution 1 #test.x\"},{\"type\":\"scatter\",\"x\":[0,1,2,3,4,5,6,7,8,9,10],\"y\":[0,4,8,12,16,20,24,28,32,36,40],\"line\":{\"shape\":\"hvh\"},\"name\":\"Solution 2 #test.x\"}];\n",
       "            var layout = {\"showlegend\":true};\n",
       "            Plotly.newPlot('662951a0-6791-4fe3-a6d5-5449358ba2ca', data, layout);\n",
       "        \r\n",
       "});\r\n",
       "};\r\n",
       "if ((typeof(require) !==  typeof(Function)) || (typeof(require.config) !== typeof(Function))) {\r\n",
       "    var script = document.createElement(\"script\"); \r\n",
       "    script.setAttribute(\"src\", \"https://cdnjs.cloudflare.com/ajax/libs/require.js/2.3.6/require.min.js\");\r\n",
       "    script.onload = function(){\r\n",
       "        renderPlotly();\r\n",
       "    };\r\n",
       "    document.getElementsByTagName(\"head\")[0].appendChild(script); \r\n",
       "}\r\n",
       "else {\r\n",
       "    renderPlotly();\r\n",
       "}\r\n",
       "</script>\r\n"
      ]
     },
     "metadata": {},
     "output_type": "display_data"
    },
    {
     "data": {
      "text/html": []
     },
     "execution_count": 10,
     "metadata": {},
     "output_type": "execute_result"
    }
   ],
   "source": [
    "\"\"\"\n",
    "unique state int x;\n",
    "unique system nat increment;\n",
    "update p[k].x := p[k-1].x + increment;\n",
    "#test[0].x = 0;\n",
    "#test[10].x > 10;\n",
    "#test[10].x < 50;\n",
    "\"\"\"\n",
    "|> ReilAPI.Load\n",
    "|> ReilAPI.Enumerate 100\n",
    "|> TrajVis.PlotSolutionTrajectories\n"
   ]
  },
  {
   "cell_type": "markdown",
   "metadata": {},
   "source": [
    "To illustrate the difference between ``system`` and ``path`` variables, we consider the problem of synthesizing a counter that can reach the value of either ``10`` or ``20`` in two different executions (``test1`` and ``test1``), both of which start at ``0``."
   ]
  },
  {
   "cell_type": "code",
   "execution_count": 11,
   "metadata": {},
   "outputs": [
    {
     "data": {
      "text/plain": [
       "No solutions found"
      ]
     },
     "metadata": {},
     "output_type": "display_data"
    },
    {
     "data": {
      "text/html": []
     },
     "execution_count": 11,
     "metadata": {},
     "output_type": "execute_result"
    }
   ],
   "source": [
    "\"\"\"\n",
    "unique state int x;\n",
    "unique system nat increment;\n",
    "update p[k].x := p[k-1].x + increment;\n",
    "#test1[0].x = 0;\n",
    "#test2[0].x = 0;\n",
    "#test1[10].x = 10;\n",
    "#test2[10].x = 20;\n",
    "\"\"\"\n",
    "|> ReilAPI.Load\n",
    "|> ReilAPI.Enumerate 100\n",
    "|> TrajVis.PlotSolutionTrajectories\n"
   ]
  },
  {
   "cell_type": "markdown",
   "metadata": {},
   "source": [
    "We verify that this problem is unsatisfiable and no solutions exist. This is expected, since the same ``system`` increment cannot produce two different trajectories. In the example below we modify the model so that ``increment`` is now a ``path`` variable. This allows for a distinct value of ``increment`` to be synthesized for each of the two executions and the problem becomes satisfiable. Notice that only a single solution is found despite the enumeration. Indeed ``#test1.increment = 1`` and ``#test2.increment = 2`` is the only possible variable assignment that is consistent with the specification."
   ]
  },
  {
   "cell_type": "code",
   "execution_count": 12,
   "metadata": {},
   "outputs": [
    {
     "data": {
      "text/html": [
       "<div id=\"c730f850-1e80-413a-8551-ca42a8a00fa6\" style=\"width: 900px; height: 500px;\"></div>\r\n",
       "<script type=\"text/javascript\">\r\n",
       "\r\n",
       "var renderPlotly = function() {\r\n",
       "    var xplotRequire = require.config({context:'xplot-3.0.1',paths:{plotly:'https://cdn.plot.ly/plotly-1.49.2.min'}}) || require;\r\n",
       "    xplotRequire(['plotly'], function(Plotly) {\r\n",
       "\n",
       "            var data = [{\"type\":\"scatter\",\"x\":[0,1,2,3,4,5,6,7,8,9,10],\"y\":[0,1,2,3,4,5,6,7,8,9,10],\"line\":{\"shape\":\"hvh\"},\"name\":\"Solution 0 #test1.x\"},{\"type\":\"scatter\",\"x\":[0,1,2,3,4,5,6,7,8,9,10],\"y\":[0,2,4,6,8,10,12,14,16,18,20],\"line\":{\"shape\":\"hvh\"},\"name\":\"Solution 0 #test2.x\"}];\n",
       "            var layout = {\"showlegend\":true};\n",
       "            Plotly.newPlot('c730f850-1e80-413a-8551-ca42a8a00fa6', data, layout);\n",
       "        \r\n",
       "});\r\n",
       "};\r\n",
       "if ((typeof(require) !==  typeof(Function)) || (typeof(require.config) !== typeof(Function))) {\r\n",
       "    var script = document.createElement(\"script\"); \r\n",
       "    script.setAttribute(\"src\", \"https://cdnjs.cloudflare.com/ajax/libs/require.js/2.3.6/require.min.js\");\r\n",
       "    script.onload = function(){\r\n",
       "        renderPlotly();\r\n",
       "    };\r\n",
       "    document.getElementsByTagName(\"head\")[0].appendChild(script); \r\n",
       "}\r\n",
       "else {\r\n",
       "    renderPlotly();\r\n",
       "}\r\n",
       "</script>\r\n"
      ]
     },
     "metadata": {},
     "output_type": "display_data"
    },
    {
     "data": {
      "text/html": []
     },
     "execution_count": 12,
     "metadata": {},
     "output_type": "execute_result"
    }
   ],
   "source": [
    "\"\"\"\n",
    "unique state int x;\n",
    "unique path nat increment;\n",
    "update p[k].x := p[k-1].x + p.increment;\n",
    "#test1[0].x = 0;\n",
    "#test2[0].x = 0;\n",
    "#test1[10].x = 10;\n",
    "#test2[10].x = 20;\n",
    "\"\"\"\n",
    "|> ReilAPI.Load\n",
    "|> ReilAPI.Enumerate 100\n",
    "|> TrajVis.PlotSolutionTrajectories\n"
   ]
  },
  {
   "cell_type": "code",
   "execution_count": 13,
   "metadata": {},
   "outputs": [
    {
     "data": {
      "text/html": [
       "<div id=\"5b389b2d-603b-4d8f-b372-be819a18fdef\" style=\"width: 900px; height: 500px;\"></div>\r\n",
       "<script type=\"text/javascript\">\r\n",
       "\r\n",
       "var renderPlotly = function() {\r\n",
       "    var xplotRequire = require.config({context:'xplot-3.0.1',paths:{plotly:'https://cdn.plot.ly/plotly-1.49.2.min'}}) || require;\r\n",
       "    xplotRequire(['plotly'], function(Plotly) {\r\n",
       "\n",
       "            var data = [{\"type\":\"scatter\",\"x\":[0,1,2,3,4,5,6,7,8,9,10],\"y\":[0,1,2,3,4,5,6,7,8,9,10],\"line\":{\"shape\":\"hvh\"},\"name\":\"Solution 0 #test.x\"},{\"type\":\"scatter\",\"x\":[0,1,2,3,4,5,6,7,8,9,10],\"y\":[1,1,1,1,1,1,1,1,1,1,1],\"line\":{\"shape\":\"hvh\"},\"name\":\"Solution 0 #test.y\"}];\n",
       "            var layout = {\"showlegend\":true};\n",
       "            Plotly.newPlot('5b389b2d-603b-4d8f-b372-be819a18fdef', data, layout);\n",
       "        \r\n",
       "});\r\n",
       "};\r\n",
       "if ((typeof(require) !==  typeof(Function)) || (typeof(require.config) !== typeof(Function))) {\r\n",
       "    var script = document.createElement(\"script\"); \r\n",
       "    script.setAttribute(\"src\", \"https://cdnjs.cloudflare.com/ajax/libs/require.js/2.3.6/require.min.js\");\r\n",
       "    script.onload = function(){\r\n",
       "        renderPlotly();\r\n",
       "    };\r\n",
       "    document.getElementsByTagName(\"head\")[0].appendChild(script); \r\n",
       "}\r\n",
       "else {\r\n",
       "    renderPlotly();\r\n",
       "}\r\n",
       "</script>\r\n"
      ]
     },
     "metadata": {},
     "output_type": "display_data"
    },
    {
     "data": {
      "text/html": []
     },
     "execution_count": 13,
     "metadata": {},
     "output_type": "execute_result"
    }
   ],
   "source": [
    "\"\"\"\n",
    "unique state int x;\n",
    "unique state int y;\n",
    "update p[k].x := p[k-1].x + p[k].y;\n",
    "#test[0].x = 0;\n",
    "#test[0].y = 1;\n",
    "#test[10].x > 0;\n",
    "\"\"\"\n",
    "|> ReilAPI.Load\n",
    "|> ReilAPI.Enumerate 100\n",
    "|> TrajVis.PlotSolutionTrajectories"
   ]
  },
  {
   "cell_type": "markdown",
   "metadata": {},
   "source": [
    "<a id=\"DSLs\"></a>\n",
    "## Higher-level DSLs\n",
    "\n",
    "The purpose of REIL is to provide a basic intermediate language that could be a compilation target for a variety of DSLs. With this approach, the low-level details of encoding problems into SMT, calling the solver (in this case Z3) and processing the solutions are handled by the Reasoning Engine. Furthermore, this approach allows for additional tactics, problem transformations, simplifications and reasoning strategies to be implemented as part of the Reasoning Engine and reused when reasoning about models defined using higher-level DSLs. The approach has been used to define several biological DSLs compiling to REIL in other projects.\n",
    "\n",
    "In the following we illustrate this idea by creating a simple 'embedded DSL' for Boolean networks. These networks are simple models of genetic interaction. At each state, each gene is either active (true) or inactive (false). Interactions between the genes define the next state of the system. For simplicity, here we consider only synchronous networks with AND-type regulation. We also implement only very limited constraints (e.g. to capture experimental biological observations). Instead of producing REIL text, the example below constructs directly the F# Reasoning Engine model as an illustration of possible programmatic modeling."
   ]
  },
  {
   "cell_type": "code",
   "execution_count": 14,
   "metadata": {},
   "outputs": [],
   "source": [
    "open Microsoft.Research.ReasoningEngine.Model\n",
    "open Microsoft.Research.ReasoningEngine.Var\n",
    "open Microsoft.Research.ReasoningEngine.Dynamics\n",
    "open Microsoft.Research.ReasoningEngine.Constraint\n",
    "\n",
    "type Gene = Gene of string\n",
    "\n",
    "type Interaction = \n",
    "    | Activates of (Gene * Gene) //Source * Target\n",
    "    | Represses of (Gene * Gene)\n",
    "    \n",
    "type Observation = \n",
    "    | Active of   (string * int * Gene) //experiment * gene * step\n",
    "    | Inactive of (string * int * Gene)\n",
    "    \n",
    "type Network = \n",
    "    { genes        : Gene[]\n",
    "      interactions : Interaction[]\n",
    "      observations : Observation[]\n",
    "    }\n",
    "    static member Encode (network:Network) = \n",
    "        //define a state variable for each gene\n",
    "        let sys = Array.fold (fun (acc:DSystem) (Gene g) -> acc.DeclareStateVar(g,Type.Bool)) DSystem.EmptySystem network.genes\n",
    "        \n",
    "        //add update rules based on the unteractions\n",
    "        let updateRules = \n",
    "            network.interactions\n",
    "            |> Array.map (fun interaction -> \n",
    "                match interaction with \n",
    "                | Activates (source, target) -> (true, source, target)\n",
    "                | Represses (source, target) -> (false, source, target)\n",
    "                )             \n",
    "            |> Array.groupBy (fun (_,_,target) -> target)\n",
    "            |> Array.map(fun (Gene target, regulators) -> \n",
    "                regulators\n",
    "                |> Seq.map(fun (flag, Gene source, _) -> \n",
    "                    let v = \n",
    "                        AbsStateVar(-1, source) //for all paths, for all steps k, consider k-1\n",
    "                        |> BVar\n",
    "                        |> BTerm\n",
    "                    if flag then v else Not v\n",
    "                    )\n",
    "                |> LAnd\n",
    "                |> BExpr\n",
    "                |> fun expr -> AssignmentRule.Create(target, expr) |> Assignment\n",
    "                )\n",
    "            \n",
    "        let sys = {sys with updates = [Update.Create(None, updateRules)]}\n",
    "        \n",
    "        let model = Model.NewModel sys\n",
    "        \n",
    "        //add constraints\n",
    "        network.observations\n",
    "        |> Array.map(fun obs -> \n",
    "            match obs with \n",
    "            | Active (exp, t, g) -> (true, exp, t, g)\n",
    "            | Inactive (exp, t, g) -> (false, exp, t, g)\n",
    "            )\n",
    "        |> Array.map(fun (flag, exp, t, Gene g) -> \n",
    "            let v = \n",
    "                StateVar(exp, t, g) //for all paths, for all steps k, consider k-1\n",
    "                |> BVar\n",
    "                |> BTerm\n",
    "            if flag then v else Not v            \n",
    "            )\n",
    "        |> Array.fold (fun acc cst -> \n",
    "                {acc with constraints = acc.constraints.AddObservation(cst, \"Constraint\")}\n",
    "            ) model\n",
    "\n",
    "        "
   ]
  },
  {
   "cell_type": "markdown",
   "metadata": {},
   "source": [
    "Next, we use our 'embedded DSL' to define a simple oscillating gene network based on the [Repressilator design](https://en.wikipedia.org/wiki/Repressilator)."
   ]
  },
  {
   "cell_type": "code",
   "execution_count": 15,
   "metadata": {},
   "outputs": [
    {
     "data": {
      "text/html": [
       "<div id=\"0dac1218-a560-443e-80ae-642eb7155ae2\" style=\"width: 900px; height: 500px;\"></div>\r\n",
       "<script type=\"text/javascript\">\r\n",
       "\r\n",
       "var renderPlotly = function() {\r\n",
       "    var xplotRequire = require.config({context:'xplot-3.0.1',paths:{plotly:'https://cdn.plot.ly/plotly-1.49.2.min'}}) || require;\r\n",
       "    xplotRequire(['plotly'], function(Plotly) {\r\n",
       "\n",
       "            var data = [{\"type\":\"scatter\",\"x\":[0,1,2,3,4,5,6,7,8,9,10],\"y\":[1,1,0,0,0,1,1,1,0,0,0],\"line\":{\"shape\":\"hvh\"},\"name\":\"Solution 0 Experiment1.A\"},{\"type\":\"scatter\",\"x\":[0,1,2,3,4,5,6,7,8,9,10],\"y\":[0,0,0,1,1,1,0,0,0,1,1],\"line\":{\"shape\":\"hvh\"},\"name\":\"Solution 0 Experiment1.B\"},{\"type\":\"scatter\",\"x\":[0,1,2,3,4,5,6,7,8,9,10],\"y\":[0,1,1,1,0,0,0,1,1,1,0],\"line\":{\"shape\":\"hvh\"},\"name\":\"Solution 0 Experiment1.C\"}];\n",
       "            var layout = {\"showlegend\":true};\n",
       "            Plotly.newPlot('0dac1218-a560-443e-80ae-642eb7155ae2', data, layout);\n",
       "        \r\n",
       "});\r\n",
       "};\r\n",
       "if ((typeof(require) !==  typeof(Function)) || (typeof(require.config) !== typeof(Function))) {\r\n",
       "    var script = document.createElement(\"script\"); \r\n",
       "    script.setAttribute(\"src\", \"https://cdnjs.cloudflare.com/ajax/libs/require.js/2.3.6/require.min.js\");\r\n",
       "    script.onload = function(){\r\n",
       "        renderPlotly();\r\n",
       "    };\r\n",
       "    document.getElementsByTagName(\"head\")[0].appendChild(script); \r\n",
       "}\r\n",
       "else {\r\n",
       "    renderPlotly();\r\n",
       "}\r\n",
       "</script>\r\n"
      ]
     },
     "metadata": {},
     "output_type": "display_data"
    },
    {
     "data": {
      "text/html": []
     },
     "execution_count": 15,
     "metadata": {},
     "output_type": "execute_result"
    }
   ],
   "source": [
    "let A, B, C = Gene \"A\", Gene \"B\", Gene \"C\"\n",
    "\n",
    "{ genes = [|A; B; C|]\n",
    "  interactions = \n",
    "      [| Represses (A, B)\n",
    "         Represses (B, C)\n",
    "         Represses (C, A)\n",
    "      |]\n",
    "  observations = \n",
    "      [| Active(\"Experiment1\", 0, A)\n",
    "         Inactive(\"Experiment1\", 0, B)\n",
    "         Inactive(\"Experiment1\", 0, C)\n",
    "         Inactive(\"Experiment1\", 10, A)\n",
    "      |]\n",
    "}\n",
    "|> Network.Encode\n",
    "|> ReilAPI.Enumerate 100\n",
    "|> TrajVis.PlotSolutionTrajectories"
   ]
  },
  {
   "cell_type": "markdown",
   "metadata": {},
   "source": [
    "<a id=\"Notes\"></a>\n",
    "## Notes\n",
    "\n",
    "* **Notation:** In the examples above, we used ``update p[k].x := p[k-1].x + 1`` to define the system dynamics. This can be read as defining an update rule, where for all paths ``p``, for all time steps ``k`` the value of state variable ``x`` at time ``k`` of path ``p`` is determined from the value of ``x`` at the previous time step ``p[k-1].x``. Path variables do not have a time step, so can be referenced by just the generic path ``p`` in update rules (e.g. ``update p[k].x := p[k-1].x + p.increment`` for ``path`` variable ``increment``). Since system variables are not associated with a path, there is no additional scoping (e.g. ``update p[k].x := p[k-1].x + increment`` for ``system`` variable ``increment``).\n",
    "\n",
    "* **Undefined Dynamics:** Without any update rules, currently the problems become unsatisfiable. Alternatively, not-deterministic updates (any next state is possible for all variables) or constant dynamics (e.g. ``p.[k].x = p.[k-1].x``) could be assumed in this edge case. If an update is not specified for a given variable but update rules are otherwise specified, the variable is assumed to retain its value from the previous step (see example below).\n",
    "\n",
    "* **Delays:** Technically, the update rules allow for arbitrary delays to be specified (e.g. ``update p[k].x := p.[k-2].x + 1``). However, such dynamics cause problems in the current implementation, where the first update rule is applied at time-step ``1``. Rules that involve the current time-step (e.g. ``update p[k].x = p[k-1].x+p.[k].y``) are also allowed as in the following.\n",
    "\n",
    "* **Extensions:** There is additional, undocumented functionality implemented in the Reasoning Engine, some of which is purely experimental. For example, the REIL language supports cardinality constraints, which are useful for example to limit the number of Boolean choice variables that are set to true. There is also an experimental interface to [Infer.Net](https://dotnet.github.io/infer/), which could be used as an probabilistic reasoning strategy and an alternative to the SMT-based reasoning."
   ]
  }
 ],
 "metadata": {
  "kernelspec": {
   "display_name": ".NET (F#)",
   "language": "F#",
   "name": ".net-fsharp"
  },
  "language": "fsharp",
  "language_info": {
   "file_extension": ".fs",
   "mimetype": "text/x-fsharp",
   "name": "C#",
   "pygments_lexer": "fsharp",
   "version": "4.5"
  }
 },
 "nbformat": 4,
 "nbformat_minor": 4
}
